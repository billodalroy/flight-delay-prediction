{
 "cells": [
  {
   "cell_type": "code",
   "execution_count": 14,
   "metadata": {},
   "outputs": [],
   "source": [
    "from sqlite_helper import *\n",
    "conn_1 = create_connection(\"main.db\")\n",
    "conn_2 = create_connection(\"temp.db\")"
   ]
  },
  {
   "cell_type": "code",
   "execution_count": 2,
   "metadata": {},
   "outputs": [
    {
     "name": "stdout",
     "output_type": "stream",
     "text": [
      "['Code', 'Description']\n"
     ]
    }
   ],
   "source": [
    "header = None\n",
    "with open(\"Airlines.csv\") as file:\n",
    "    for line in file:\n",
    "        if not header:\n",
    "            header = line.strip().split(',')\n",
    "            print(header)\n",
    "            break"
   ]
  },
  {
   "cell_type": "code",
   "execution_count": 2,
   "metadata": {},
   "outputs": [],
   "source": [
    "def insert_master_record(conn, values):\n",
    "    sql = '''INSERT INTO Flights VALUES(?,?,?,?,?,?,?,?,?,?,?,?,?,?,?,?,?,?,?,?,?,?,?,?,?,?,?,?,?,?,?,?,?,?,?,?,?,?,?,?,?,?,?,?,?,?,?,?,?,?,?,?,?,?,?,?,?,?,?,?,?)'''\n",
    "    try:\n",
    "        cur = conn.cursor()\n",
    "        cur.execute(sql, values)\n",
    "    except Error as e:\n",
    "        print(e)\n",
    "    return cur.lastrowid"
   ]
  },
  {
   "cell_type": "code",
   "execution_count": 3,
   "metadata": {},
   "outputs": [],
   "source": [
    "# Create Airlines Table\n",
    "create_airlines_sql = '''CREATE TABLE airlines (\n",
    "    Code TEXT PRIMARY KEY,\n",
    "    Description TEXT\n",
    ")\n",
    "'''\n",
    "create_table(conn_1, create_airlines_sql)"
   ]
  },
  {
   "cell_type": "code",
   "execution_count": 4,
   "metadata": {},
   "outputs": [],
   "source": [
    "import csv"
   ]
  },
  {
   "cell_type": "code",
   "execution_count": 6,
   "metadata": {},
   "outputs": [
    {
     "name": "stdout",
     "output_type": "stream",
     "text": [
      "['2021-03-03', 'SkyWest Airlines Inc.', 'SGU', 'PHX', 'False', 'False', '724', '714.0', '0.0', '-10.0', '818.0', '0.0', '49.0', '79.0', '64.0', '262.0', '2021', '1', '3', '3', '3', 'AA', 'AA_CODESHARE', '19805', 'AA', '3133', 'OO', '20304', 'OO', 'N728SK', '3133', '14794', '1479405', '34794', 'St. George, UT', 'UT', '49', 'Utah', '87', '14107', '1410702', '30466', 'Phoenix, AZ', 'AZ', '4', 'Arizona', '81', '0.0', '-1.0', '0700-0759', '10.0', '724.0', '813.0', '5.0', '843', '-25.0', '0.0', '-2.0', '0800-0859', '2', '0.0']\n",
      "2\n"
     ]
    }
   ],
   "source": [
    "header = None\n",
    "count = 0\n",
    "with conn_1:\n",
    "    with open(\"Combined_Flights_2021.csv\") as file:\n",
    "        values = csv.reader(file)\n",
    "        for row in values:\n",
    "            if not header:\n",
    "                header = 1\n",
    "                continue\n",
    "            # print(row)\n",
    "            # print(values) \n",
    "            rid = insert_master_record(conn_1,tuple(row))\n",
    "            # print(rid)\n",
    "conn_1.close()\n",
    "        "
   ]
  },
  {
   "cell_type": "code",
   "execution_count": 15,
   "metadata": {},
   "outputs": [],
   "source": [
    "select_airlines_sql = '''SELECT * FROM Airlines WHERE Code = \"DL\"'''\n",
    "out = execute_sql_statement(select_airlines_sql, conn_1)"
   ]
  },
  {
   "cell_type": "code",
   "execution_count": 16,
   "metadata": {},
   "outputs": [
    {
     "data": {
      "text/plain": [
       "[('DL', 'Delta Air Lines Inc.')]"
      ]
     },
     "execution_count": 16,
     "metadata": {},
     "output_type": "execute_result"
    }
   ],
   "source": [
    "out"
   ]
  },
  {
   "cell_type": "code",
   "execution_count": 12,
   "metadata": {},
   "outputs": [
    {
     "name": "stdout",
     "output_type": "stream",
     "text": [
      "Header ['Code', 'Description']\n"
     ]
    }
   ],
   "source": [
    "from sqlite_helper import *\n",
    "import csv\n",
    "\n",
    "# Create Connection to DB\n",
    "conn_1 = create_connection(\"main.db\")\n",
    "\n",
    "# Create Airlines Table\n",
    "create_airlines_sql = '''CREATE TABLE Airlines (\n",
    "    Code TEXT PRIMARY KEY,\n",
    "    Description TEXT\n",
    ")\n",
    "'''\n",
    "\n",
    "create_table(conn_1, create_airlines_sql)\n",
    "\n",
    "# Adding Rows\n",
    "header = None\n",
    "with conn_1:\n",
    "    with open(\"Airlines.csv\") as file:\n",
    "        for line in file:\n",
    "            if not header:\n",
    "                header = line.strip().split(',')\n",
    "                print(\"Header\", header)\n",
    "                continue\n",
    "            values = line.strip().split(',',1)\n",
    "            #print(values)\n",
    "            rid = insert_airline(conn_1,values)\n",
    "            #print(rid)\n"
   ]
  },
  {
   "cell_type": "code",
   "execution_count": 31,
   "metadata": {},
   "outputs": [],
   "source": [
    "sql_statement = '''SELECT DISTINCT Origin Code,SUBSTR(OriginCityName,1,INSTR(OriginCityName,',')-1) City,OriginState State\n",
    "FROM Flights\n",
    "UNION\n",
    "SELECT DISTINCT Dest Code,SUBSTR(DestCityName,1,INSTR(DestCityName,',')-1) City,DestState State\n",
    "FROM Flights\n",
    "'''"
   ]
  },
  {
   "cell_type": "code",
   "execution_count": 32,
   "metadata": {},
   "outputs": [],
   "source": [
    "out = execute_sql_statement(sql_statement, conn_1)"
   ]
  },
  {
   "cell_type": "code",
   "execution_count": 1,
   "metadata": {},
   "outputs": [],
   "source": [
    "from sqlite_helper import *"
   ]
  },
  {
   "cell_type": "code",
   "execution_count": 7,
   "metadata": {},
   "outputs": [],
   "source": [
    "#Connection\n",
    "conn_2 = create_connection(\"temp.db\")\n",
    "\n",
    "# Create Airports Table\n",
    "create_airports_sql = '''CREATE TABLE Airports (\n",
    "    Airport TEXT PRIMARY KEY,\n",
    "    City TEXT,\n",
    "    State TEXT\n",
    ")\n",
    "'''\n",
    "create_table(conn_1,create_airports_sql)\n",
    "\n",
    "airports_sql_statement = '''SELECT DISTINCT Origin Airport,SUBSTR(OriginCityName,1,INSTR(OriginCityName,',')-1) City,OriginState State\n",
    "FROM Flights\n",
    "UNION\n",
    "SELECT DISTINCT Dest Airport,SUBSTR(DestCityName,1,INSTR(DestCityName,',')-1) City,DestState State\n",
    "FROM Flights\n",
    "'''\n",
    "\n",
    "#Executing Query\n",
    "airports = execute_sql_statement(airports_sql_statement, conn_1)\n",
    "with conn_1:\n",
    "    for airport in airports:\n",
    "        insert_airport(conn_1,airport)\n"
   ]
  },
  {
   "cell_type": "code",
   "execution_count": 4,
   "metadata": {},
   "outputs": [
    {
     "name": "stdout",
     "output_type": "stream",
     "text": [
      "[('BUF', 'Buffalo', 'NY')]\n"
     ]
    }
   ],
   "source": [
    "srmt = '''SELECT * FROM Airports WHERE Airport = \"BUF\"'''\n",
    "out = execute_sql_statement(srmt,conn_1)\n",
    "print(out)"
   ]
  },
  {
   "cell_type": "markdown",
   "metadata": {},
   "source": [
    "# Show All Tables"
   ]
  },
  {
   "cell_type": "code",
   "execution_count": 27,
   "metadata": {},
   "outputs": [
    {
     "name": "stdout",
     "output_type": "stream",
     "text": [
      "[('airlines',), ('raw_data',), ('Airports',), ('flights',), ('routes',), ('sqlite_sequence',)]\n"
     ]
    }
   ],
   "source": [
    "sql_show_tables = \"\"\"SELECT name FROM sqlite_master  \n",
    "WHERE type='table'\"\"\"\n",
    "res = execute_sql_statement(sql_show_tables,conn_1)\n",
    "print(res)"
   ]
  },
  {
   "cell_type": "code",
   "execution_count": 26,
   "metadata": {},
   "outputs": [
    {
     "name": "stdout",
     "output_type": "stream",
     "text": [
      "[('2021-03-03', 6289, 'False', 'False', '724', '714.0', 0.0, -10.0, '818.0', 0.0, 49.0, 262.0, 'AA', '3133')]\n"
     ]
    }
   ],
   "source": [
    "sql_stmt = \"\"\"SELECT * FROM flights\n",
    "LIMIT 1\"\"\"\n",
    "res = execute_sql_statement(sql_stmt, conn_1)\n",
    "print(res)"
   ]
  },
  {
   "cell_type": "code",
   "execution_count": 25,
   "metadata": {},
   "outputs": [
    {
     "data": {
      "text/plain": [
       "[(1, 'ORD', 'SAN')]"
      ]
     },
     "execution_count": 25,
     "metadata": {},
     "output_type": "execute_result"
    }
   ],
   "source": [
    "res"
   ]
  },
  {
   "cell_type": "code",
   "execution_count": 11,
   "metadata": {},
   "outputs": [],
   "source": [
    "from pprint import pprint"
   ]
  },
  {
   "cell_type": "code",
   "execution_count": 13,
   "metadata": {},
   "outputs": [
    {
     "name": "stdout",
     "output_type": "stream",
     "text": [
      "{'ActualElapsedTime': 64,\n",
      " 'AirTime': 49.0,\n",
      " 'Airline': 'SkyWest Airlines Inc.',\n",
      " 'ArrDel15': '0.0',\n",
      " 'ArrDelay': -25.0,\n",
      " 'ArrDelayMinutes': 0.0,\n",
      " 'ArrTime': '818.0',\n",
      " 'ArrTimeBlk': '0800-0859',\n",
      " 'ArrivalDelayGroups': '-2.0',\n",
      " 'CRSArrTime': 843,\n",
      " 'CRSDepTime': '724',\n",
      " 'CRSElapsedTime': 79.0,\n",
      " 'Cancelled': 'False',\n",
      " 'DOT_ID_Marketing_Airline': 19805,\n",
      " 'DOT_ID_Operating_Airline': '20304',\n",
      " 'DayOfWeek': 3,\n",
      " 'DayofMonth': 3,\n",
      " 'DepDel15': 0.0,\n",
      " 'DepDelay': -10.0,\n",
      " 'DepDelayMinutes': 0.0,\n",
      " 'DepTime': '714.0',\n",
      " 'DepTimeBlk': '0700-0759',\n",
      " 'DepartureDelayGroups': -1.0,\n",
      " 'Dest': 'PHX',\n",
      " 'DestAirportID': '14107',\n",
      " 'DestAirportSeqID': '1410702',\n",
      " 'DestCityMarketID': '30466',\n",
      " 'DestCityName': 'Phoenix, AZ',\n",
      " 'DestState': 'AZ',\n",
      " 'DestStateFips': '4',\n",
      " 'DestStateName': 'Arizona',\n",
      " 'DestWac': '81',\n",
      " 'Distance': 262.0,\n",
      " 'DistanceGroup': '2',\n",
      " 'DivAirportLandings': '0.0',\n",
      " 'Diverted': 'False',\n",
      " 'FlightDate': '2021-03-03',\n",
      " 'Flight_Number_Marketing_Airline': '3133',\n",
      " 'Flight_Number_Operating_Airline': '3133',\n",
      " 'IATA_Code_Marketing_Airline': 'AA',\n",
      " 'IATA_Code_Operating_Airline': 'OO',\n",
      " 'Marketing_Airline_Network': 'AA',\n",
      " 'Month': 3,\n",
      " 'Operated_or_Branded_Code_Share_Partners': 'AA_CODESHARE',\n",
      " 'Operating_Airline': 'OO',\n",
      " 'Origin': 'SGU',\n",
      " 'OriginAirportID': '14794',\n",
      " 'OriginAirportSeqID': '1479405',\n",
      " 'OriginCityMarketID': '34794',\n",
      " 'OriginCityName': 'St. George, UT',\n",
      " 'OriginState': 'UT',\n",
      " 'OriginStateFips': '49',\n",
      " 'OriginStateName': 'Utah',\n",
      " 'OriginWac': '87',\n",
      " 'Quarter': 1,\n",
      " 'Tail_Number': 'N728SK',\n",
      " 'TaxiIn': 5.0,\n",
      " 'TaxiOut': 10.0,\n",
      " 'WheelsOff': 724.0,\n",
      " 'WheelsOn': 813.0,\n",
      " 'Year': 2021}\n"
     ]
    }
   ],
   "source": [
    "pprint(dict(r))"
   ]
  },
  {
   "cell_type": "code",
   "execution_count": 9,
   "metadata": {},
   "outputs": [],
   "source": [
    "conn_1.row_factory = sqlite3.Row"
   ]
  },
  {
   "cell_type": "code",
   "execution_count": 16,
   "metadata": {},
   "outputs": [],
   "source": [
    "select_routes_sql = \"\"\"SELECT Origin, Dest\n",
    "FROM Flights\n",
    "\"\"\""
   ]
  },
  {
   "cell_type": "code",
   "execution_count": 17,
   "metadata": {},
   "outputs": [],
   "source": [
    "routes_with_duplicate = execute_sql_statement(select_routes_sql, conn_1)"
   ]
  },
  {
   "cell_type": "code",
   "execution_count": 21,
   "metadata": {},
   "outputs": [
    {
     "name": "stdout",
     "output_type": "stream",
     "text": [
      "('SGU', 'PHX')\n"
     ]
    }
   ],
   "source": [
    "conn_2 = create_connection()"
   ]
  },
  {
   "cell_type": "code",
   "execution_count": null,
   "metadata": {},
   "outputs": [],
   "source": [
    "# Pushing to New Table\n",
    "with conn_1:\n",
    "    for airport in airports:\n",
    "        insert_airport(conn_1,airport)"
   ]
  },
  {
   "cell_type": "code",
   "execution_count": 25,
   "metadata": {},
   "outputs": [],
   "source": [
    "from sqlite_helper import *"
   ]
  },
  {
   "cell_type": "code",
   "execution_count": 39,
   "metadata": {},
   "outputs": [],
   "source": [
    "conn_1 = create_connection(\"temp.db\")\n",
    "conn = create_connection(\"main.db\")"
   ]
  },
  {
   "cell_type": "code",
   "execution_count": 27,
   "metadata": {},
   "outputs": [],
   "source": [
    "def insert_route(conn, values):\n",
    "    sql = '''INSERT INTO routes (Source, Destination) VALUES(?,?)'''\n",
    "    try:\n",
    "        cur = conn.cursor()\n",
    "        cur.execute(sql, values)\n",
    "    except Error as e:\n",
    "        print(e)\n",
    "    return cur.lastrowid"
   ]
  },
  {
   "cell_type": "code",
   "execution_count": 35,
   "metadata": {},
   "outputs": [],
   "source": [
    "creates_routes_table_sql = \"\"\"\n",
    "CREATE TABLE routes (\n",
    "    RouteID INTEGER PRIMARY KEY AUTOINCREMENT,\n",
    "    Source TEXT,\n",
    "    Destination TEXT\n",
    ")\"\"\"\n",
    "\n",
    "create_table(conn_1,creates_routes_table_sql)"
   ]
  },
  {
   "cell_type": "code",
   "execution_count": 36,
   "metadata": {},
   "outputs": [],
   "source": [
    "select_routes_sql = \"\"\"SELECT Origin, Dest\n",
    "FROM Flights\n",
    "\"\"\"\n",
    "routes_with_duplicate = execute_sql_statement(select_routes_sql,conn)\n",
    "\n",
    "unique_routes = set()\n",
    "\n",
    "# Capturing Unique Routes in the data\n",
    "for route in routes_with_duplicate:\n",
    "    unique_routes.add(route)\n",
    "\n",
    "# Adding into routes table\n",
    "with conn_1:\n",
    "    for route in unique_routes:\n",
    "        insert_route(conn_1, route)"
   ]
  },
  {
   "cell_type": "code",
   "execution_count": 40,
   "metadata": {},
   "outputs": [],
   "source": [
    "create_normalized_flights_sql = \"\"\"CREATE TABLE flights_normalized (\n",
    "    FlightDate DATE,\n",
    "    Airline TEXT, \n",
    "    RouteID INTEGER, \n",
    "    Cancelled TEXT, \n",
    "    Diverted TEXT, \n",
    "    CRSDepTime TEXT, \n",
    "    DepTime TEXT, \n",
    "    DepDelayMinutes REAL, \n",
    "    DepDelay REAL, \n",
    "    ArrTime TEXT, \n",
    "    ArrDelayMinutes REAL, \n",
    "    AirTime REAL,\n",
    "    Distance REAL,\n",
    "    IATA_Code_Marketing_Airline TEXT,\n",
    "    Flight_Number_Operating_Airline TEXT,\n",
    "    FOREIGN KEY(RouteID) REFERENCES routes(RouteID),\n",
    "    FOREIGN KEY(IATA_Code_Marketing_Airline) REFERENCES airlines(Airport)\n",
    ")\n",
    "\"\"\"\n",
    "\n",
    "create_table(conn_1,create_normalized_flights_sql)"
   ]
  },
  {
   "cell_type": "code",
   "execution_count": 41,
   "metadata": {},
   "outputs": [],
   "source": [
    "create_airlines_sql = '''CREATE TABLE airlines (\n",
    "    Code TEXT PRIMARY KEY,\n",
    "    Description TEXT\n",
    ")\n",
    "'''\n",
    "\n",
    "create_table(conn_1, create_airlines_sql)"
   ]
  },
  {
   "cell_type": "code",
   "execution_count": 43,
   "metadata": {},
   "outputs": [],
   "source": [
    "select_flights_sql = \"\"\"SELECT FlightDate,\n",
    "    Airline, \n",
    "    Origin,\n",
    "    Dest, \n",
    "    Cancelled, \n",
    "    Diverted, \n",
    "    CRSDepTime, \n",
    "    DepTime, \n",
    "    DepDelayMinutes, \n",
    "    DepDelay, \n",
    "    ArrTime, \n",
    "    ArrDelayMinutes, \n",
    "    AirTime,\n",
    "    Distance REAL,\n",
    "    IATA_Code_Marketing_Airline,\n",
    "    Flight_Number_Operating_Airline\n",
    "    FROM Flights\n",
    "\"\"\"\n",
    "flights_truncated = execute_sql_statement(select_flights_sql, conn)"
   ]
  },
  {
   "cell_type": "code",
   "execution_count": 5,
   "metadata": {},
   "outputs": [],
   "source": [
    "# CREATING ROUTES MAPPING\n",
    "select_all_routes_sql = \"\"\"SELECT Source, Destination, RouteID\n",
    "FROM routes\"\"\"\n",
    "routes = execute_sql_statement(select_all_routes_sql, conn_2)\n",
    "route_mapping = {}\n",
    "for route in routes:\n",
    "    route_mapping[(route[0],route[1])] = route[2]"
   ]
  },
  {
   "cell_type": "code",
   "execution_count": null,
   "metadata": {},
   "outputs": [],
   "source": [
    "route_mapping"
   ]
  },
  {
   "cell_type": "code",
   "execution_count": 6,
   "metadata": {},
   "outputs": [],
   "source": [
    "create_normalized_flights_sql = \"\"\"CREATE TABLE flights (\n",
    "    FlightDate DATE, \n",
    "    RouteID INTEGER, \n",
    "    Cancelled TEXT, \n",
    "    Diverted TEXT, \n",
    "    CRSDepTime TEXT, \n",
    "    DepTime TEXT, \n",
    "    DepDelayMinutes REAL, \n",
    "    DepDelay REAL, \n",
    "    ArrTime TEXT, \n",
    "    ArrDelayMinutes REAL, \n",
    "    AirTime REAL,\n",
    "    Distance REAL,\n",
    "    IATA_Code_Marketing_Airline TEXT,\n",
    "    Flight_Number_Operating_Airline TEXT,\n",
    "    FOREIGN KEY(RouteID) REFERENCES routes(RouteID),\n",
    "    FOREIGN KEY(IATA_Code_Marketing_Airline) REFERENCES airlines(Airport)\n",
    ")\n",
    "\"\"\"\n",
    "\n",
    "create_table(conn_2,create_normalized_flights_sql)"
   ]
  },
  {
   "cell_type": "code",
   "execution_count": 8,
   "metadata": {},
   "outputs": [],
   "source": [
    "# insert into normalized flights table\n",
    "\n",
    "select_flights_sql = \"\"\"SELECT FlightDate,\n",
    "    Origin,\n",
    "    Dest, \n",
    "    Cancelled, \n",
    "    Diverted, \n",
    "    CRSDepTime, \n",
    "    DepTime, \n",
    "    DepDelayMinutes, \n",
    "    DepDelay, \n",
    "    ArrTime, \n",
    "    ArrDelayMinutes, \n",
    "    AirTime,\n",
    "    Distance,\n",
    "    IATA_Code_Marketing_Airline,\n",
    "    Flight_Number_Operating_Airline\n",
    "    FROM Flights\n",
    "\"\"\"\n",
    "flights_truncated = execute_sql_statement(select_flights_sql, conn_1)"
   ]
  },
  {
   "cell_type": "code",
   "execution_count": null,
   "metadata": {},
   "outputs": [],
   "source": [
    "flights_truncated[0]"
   ]
  },
  {
   "cell_type": "code",
   "execution_count": 7,
   "metadata": {},
   "outputs": [],
   "source": [
    "from pprint import pprint"
   ]
  },
  {
   "cell_type": "code",
   "execution_count": null,
   "metadata": {},
   "outputs": [],
   "source": []
  },
  {
   "cell_type": "code",
   "execution_count": 11,
   "metadata": {},
   "outputs": [
    {
     "name": "stdout",
     "output_type": "stream",
     "text": [
      "['2021-03-03',\n",
      " 2436,\n",
      " 'False',\n",
      " 'False',\n",
      " '724',\n",
      " '714.0',\n",
      " 0.0,\n",
      " -10.0,\n",
      " '818.0',\n",
      " 0.0,\n",
      " 49.0,\n",
      " 262.0,\n",
      " 'AA',\n",
      " '3133']\n"
     ]
    }
   ],
   "source": [
    "with conn_2:\n",
    "    for record in flights_truncated:\n",
    "        new_record = []\n",
    "        new_record.append(record[0])\n",
    "        new_record.append(route_mapping[(record[1], record[2])])\n",
    "        for r in record[3:]:\n",
    "            new_record.append(r)\n",
    "        pprint(new_record)\n",
    "        insert_flight(conn_2, tuple(new_record))\n",
    "        break"
   ]
  },
  {
   "cell_type": "code",
   "execution_count": 17,
   "metadata": {},
   "outputs": [],
   "source": [
    "select_flights_sql = \"\"\"SELECT FlightDate,\n",
    "    Origin,\n",
    "    Dest, \n",
    "    Cancelled, \n",
    "    Diverted, \n",
    "    CRSDepTime, \n",
    "    DepTime, \n",
    "    DepDelayMinutes, \n",
    "    DepDelay, \n",
    "    ArrTime, \n",
    "    ArrDelayMinutes, \n",
    "    AirTime,\n",
    "    Distance,\n",
    "    IATA_Code_Marketing_Airline,\n",
    "    Flight_Number_Operating_Airline\n",
    "    FROM raw_data\n",
    "\"\"\"\n",
    "flights_truncated = execute_sql_statement(select_flights_sql, conn_1)\n",
    "\n",
    "\n",
    " "
   ]
  },
  {
   "cell_type": "code",
   "execution_count": 18,
   "metadata": {},
   "outputs": [
    {
     "name": "stdout",
     "output_type": "stream",
     "text": [
      "no such table: routes\n"
     ]
    }
   ],
   "source": [
    "# CREATING ROUTES MAPPING\n",
    "select_all_routes_sql = \"\"\"SELECT Source, Destination, RegionID\n",
    "FROM routes\"\"\"\n",
    "routes = execute_sql_statement(select_all_routes_sql, conn_1)\n",
    "route_mapping = {}\n",
    "for route in routes:\n",
    "    route_mapping[(route[0],route[1])] = route[2]\n"
   ]
  },
  {
   "cell_type": "code",
   "execution_count": null,
   "metadata": {},
   "outputs": [],
   "source": [
    "# Inserting Data into normalized flights table\n",
    "with conn_1:\n",
    "    for record in flights_truncated:\n",
    "        new_record = []\n",
    "        new_record.append(record[0])\n",
    "        new_record.append(route_mapping[(record[1], record[2])])\n",
    "        for r in record[3:]:\n",
    "            new_record.append(r)\n",
    "        print(new_record)\n",
    "        break\n",
    "        insert_flight(conn_1, tuple(new_record))\n"
   ]
  }
 ],
 "metadata": {
  "kernelspec": {
   "display_name": "Python 3.9.6 64-bit",
   "language": "python",
   "name": "python3"
  },
  "language_info": {
   "codemirror_mode": {
    "name": "ipython",
    "version": 3
   },
   "file_extension": ".py",
   "mimetype": "text/x-python",
   "name": "python",
   "nbconvert_exporter": "python",
   "pygments_lexer": "ipython3",
   "version": "3.9.6"
  },
  "orig_nbformat": 4,
  "vscode": {
   "interpreter": {
    "hash": "31f2aee4e71d21fbe5cf8b01ff0e069b9275f58929596ceb00d14d90e3e16cd6"
   }
  }
 },
 "nbformat": 4,
 "nbformat_minor": 2
}

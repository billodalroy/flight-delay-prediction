{
 "cells": [
  {
   "cell_type": "code",
   "execution_count": 7,
   "metadata": {},
   "outputs": [],
   "source": [
    "from sqlite_helper import *\n",
    "conn_1 = create_connection(\"main.db\")"
   ]
  },
  {
   "cell_type": "code",
   "execution_count": 2,
   "metadata": {},
   "outputs": [
    {
     "name": "stdout",
     "output_type": "stream",
     "text": [
      "['Code', 'Description']\n"
     ]
    }
   ],
   "source": [
    "header = None\n",
    "with open(\"Airlines.csv\") as file:\n",
    "    for line in file:\n",
    "        if not header:\n",
    "            header = line.strip().split(',')\n",
    "            print(header)\n",
    "            break"
   ]
  },
  {
   "cell_type": "code",
   "execution_count": 2,
   "metadata": {},
   "outputs": [],
   "source": [
    "def insert_master_record(conn, values):\n",
    "    sql = '''INSERT INTO Flights VALUES(?,?,?,?,?,?,?,?,?,?,?,?,?,?,?,?,?,?,?,?,?,?,?,?,?,?,?,?,?,?,?,?,?,?,?,?,?,?,?,?,?,?,?,?,?,?,?,?,?,?,?,?,?,?,?,?,?,?,?,?,?)'''\n",
    "    try:\n",
    "        cur = conn.cursor()\n",
    "        cur.execute(sql, values)\n",
    "    except Error as e:\n",
    "        print(e)\n",
    "    return cur.lastrowid"
   ]
  },
  {
   "cell_type": "code",
   "execution_count": 3,
   "metadata": {},
   "outputs": [],
   "source": [
    "# Create Airlines Table\n",
    "create_airlines_sql = '''CREATE TABLE airlines (\n",
    "    Code TEXT PRIMARY KEY,\n",
    "    Description TEXT\n",
    ")\n",
    "'''\n",
    "create_table(conn_1, create_airlines_sql)"
   ]
  },
  {
   "cell_type": "code",
   "execution_count": 4,
   "metadata": {},
   "outputs": [],
   "source": [
    "import csv"
   ]
  },
  {
   "cell_type": "code",
   "execution_count": 6,
   "metadata": {},
   "outputs": [
    {
     "name": "stdout",
     "output_type": "stream",
     "text": [
      "['2021-03-03', 'SkyWest Airlines Inc.', 'SGU', 'PHX', 'False', 'False', '724', '714.0', '0.0', '-10.0', '818.0', '0.0', '49.0', '79.0', '64.0', '262.0', '2021', '1', '3', '3', '3', 'AA', 'AA_CODESHARE', '19805', 'AA', '3133', 'OO', '20304', 'OO', 'N728SK', '3133', '14794', '1479405', '34794', 'St. George, UT', 'UT', '49', 'Utah', '87', '14107', '1410702', '30466', 'Phoenix, AZ', 'AZ', '4', 'Arizona', '81', '0.0', '-1.0', '0700-0759', '10.0', '724.0', '813.0', '5.0', '843', '-25.0', '0.0', '-2.0', '0800-0859', '2', '0.0']\n",
      "2\n"
     ]
    }
   ],
   "source": [
    "header = None\n",
    "count = 0\n",
    "with conn_1:\n",
    "    with open(\"Combined_Flights_2021.csv\") as file:\n",
    "        values = csv.reader(file)\n",
    "        for row in values:\n",
    "            if not header:\n",
    "                header = 1\n",
    "                continue\n",
    "            # print(row)\n",
    "            # print(values) \n",
    "            rid = insert_master_record(conn_1,tuple(row))\n",
    "            # print(rid)\n",
    "conn_1.close()\n",
    "        "
   ]
  },
  {
   "cell_type": "code",
   "execution_count": null,
   "metadata": {},
   "outputs": [],
   "source": []
  },
  {
   "cell_type": "code",
   "execution_count": null,
   "metadata": {},
   "outputs": [],
   "source": []
  }
 ],
 "metadata": {
  "kernelspec": {
   "display_name": "Python 3.9.6 64-bit",
   "language": "python",
   "name": "python3"
  },
  "language_info": {
   "codemirror_mode": {
    "name": "ipython",
    "version": 3
   },
   "file_extension": ".py",
   "mimetype": "text/x-python",
   "name": "python",
   "nbconvert_exporter": "python",
   "pygments_lexer": "ipython3",
   "version": "3.9.6"
  },
  "orig_nbformat": 4,
  "vscode": {
   "interpreter": {
    "hash": "31f2aee4e71d21fbe5cf8b01ff0e069b9275f58929596ceb00d14d90e3e16cd6"
   }
  }
 },
 "nbformat": 4,
 "nbformat_minor": 2
}

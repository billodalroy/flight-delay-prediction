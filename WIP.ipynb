{
 "cells": [
  {
   "cell_type": "code",
   "execution_count": 3,
   "metadata": {},
   "outputs": [],
   "source": [
    "from sqlite_helper import *\n",
    "conn_1 = create_connection(\"main.db\")"
   ]
  },
  {
   "cell_type": "code",
   "execution_count": 2,
   "metadata": {},
   "outputs": [
    {
     "name": "stdout",
     "output_type": "stream",
     "text": [
      "['Code', 'Description']\n"
     ]
    }
   ],
   "source": [
    "header = None\n",
    "with open(\"Airlines.csv\") as file:\n",
    "    for line in file:\n",
    "        if not header:\n",
    "            header = line.strip().split(',')\n",
    "            print(header)\n",
    "            break"
   ]
  },
  {
   "cell_type": "code",
   "execution_count": 2,
   "metadata": {},
   "outputs": [],
   "source": [
    "def insert_master_record(conn, values):\n",
    "    sql = '''INSERT INTO Flights VALUES(?,?,?,?,?,?,?,?,?,?,?,?,?,?,?,?,?,?,?,?,?,?,?,?,?,?,?,?,?,?,?,?,?,?,?,?,?,?,?,?,?,?,?,?,?,?,?,?,?,?,?,?,?,?,?,?,?,?,?,?,?)'''\n",
    "    try:\n",
    "        cur = conn.cursor()\n",
    "        cur.execute(sql, values)\n",
    "    except Error as e:\n",
    "        print(e)\n",
    "    return cur.lastrowid"
   ]
  },
  {
   "cell_type": "code",
   "execution_count": 3,
   "metadata": {},
   "outputs": [],
   "source": [
    "# Create Airlines Table\n",
    "create_airlines_sql = '''CREATE TABLE airlines (\n",
    "    Code TEXT PRIMARY KEY,\n",
    "    Description TEXT\n",
    ")\n",
    "'''\n",
    "create_table(conn_1, create_airlines_sql)"
   ]
  },
  {
   "cell_type": "code",
   "execution_count": 4,
   "metadata": {},
   "outputs": [],
   "source": [
    "import csv"
   ]
  },
  {
   "cell_type": "code",
   "execution_count": 6,
   "metadata": {},
   "outputs": [
    {
     "name": "stdout",
     "output_type": "stream",
     "text": [
      "['2021-03-03', 'SkyWest Airlines Inc.', 'SGU', 'PHX', 'False', 'False', '724', '714.0', '0.0', '-10.0', '818.0', '0.0', '49.0', '79.0', '64.0', '262.0', '2021', '1', '3', '3', '3', 'AA', 'AA_CODESHARE', '19805', 'AA', '3133', 'OO', '20304', 'OO', 'N728SK', '3133', '14794', '1479405', '34794', 'St. George, UT', 'UT', '49', 'Utah', '87', '14107', '1410702', '30466', 'Phoenix, AZ', 'AZ', '4', 'Arizona', '81', '0.0', '-1.0', '0700-0759', '10.0', '724.0', '813.0', '5.0', '843', '-25.0', '0.0', '-2.0', '0800-0859', '2', '0.0']\n",
      "2\n"
     ]
    }
   ],
   "source": [
    "header = None\n",
    "count = 0\n",
    "with conn_1:\n",
    "    with open(\"Combined_Flights_2021.csv\") as file:\n",
    "        values = csv.reader(file)\n",
    "        for row in values:\n",
    "            if not header:\n",
    "                header = 1\n",
    "                continue\n",
    "            # print(row)\n",
    "            # print(values) \n",
    "            rid = insert_master_record(conn_1,tuple(row))\n",
    "            # print(rid)\n",
    "conn_1.close()\n",
    "        "
   ]
  },
  {
   "cell_type": "code",
   "execution_count": 15,
   "metadata": {},
   "outputs": [],
   "source": [
    "select_airlines_sql = '''SELECT * FROM Airlines WHERE Code = \"DL\"'''\n",
    "out = execute_sql_statement(select_airlines_sql, conn_1)"
   ]
  },
  {
   "cell_type": "code",
   "execution_count": 16,
   "metadata": {},
   "outputs": [
    {
     "data": {
      "text/plain": [
       "[('DL', 'Delta Air Lines Inc.')]"
      ]
     },
     "execution_count": 16,
     "metadata": {},
     "output_type": "execute_result"
    }
   ],
   "source": [
    "out"
   ]
  },
  {
   "cell_type": "code",
   "execution_count": 12,
   "metadata": {},
   "outputs": [
    {
     "name": "stdout",
     "output_type": "stream",
     "text": [
      "Header ['Code', 'Description']\n"
     ]
    }
   ],
   "source": [
    "from sqlite_helper import *\n",
    "import csv\n",
    "\n",
    "# Create Connection to DB\n",
    "conn_1 = create_connection(\"main.db\")\n",
    "\n",
    "# Create Airlines Table\n",
    "create_airlines_sql = '''CREATE TABLE Airlines (\n",
    "    Code TEXT PRIMARY KEY,\n",
    "    Description TEXT\n",
    ")\n",
    "'''\n",
    "\n",
    "create_table(conn_1, create_airlines_sql)\n",
    "\n",
    "# Adding Rows\n",
    "header = None\n",
    "with conn_1:\n",
    "    with open(\"Airlines.csv\") as file:\n",
    "        for line in file:\n",
    "            if not header:\n",
    "                header = line.strip().split(',')\n",
    "                print(\"Header\", header)\n",
    "                continue\n",
    "            values = line.strip().split(',',1)\n",
    "            #print(values)\n",
    "            rid = insert_airline(conn_1,values)\n",
    "            #print(rid)\n"
   ]
  },
  {
   "cell_type": "code",
   "execution_count": 31,
   "metadata": {},
   "outputs": [],
   "source": [
    "sql_statement = '''SELECT DISTINCT Origin Code,SUBSTR(OriginCityName,1,INSTR(OriginCityName,',')-1) City,OriginState State\n",
    "FROM Flights\n",
    "UNION\n",
    "SELECT DISTINCT Dest Code,SUBSTR(DestCityName,1,INSTR(DestCityName,',')-1) City,DestState State\n",
    "FROM Flights\n",
    "'''"
   ]
  },
  {
   "cell_type": "code",
   "execution_count": 32,
   "metadata": {},
   "outputs": [],
   "source": [
    "out = execute_sql_statement(sql_statement, conn_1)"
   ]
  },
  {
   "cell_type": "code",
   "execution_count": 1,
   "metadata": {},
   "outputs": [],
   "source": [
    "from sqlite_helper import *"
   ]
  },
  {
   "cell_type": "code",
   "execution_count": 5,
   "metadata": {},
   "outputs": [],
   "source": [
    "#Connection\n",
    "conn_2 = create_connection(\"temp.db\")\n",
    "\n",
    "# Create Airports Table\n",
    "create_airports_sql = '''CREATE TABLE Airports (\n",
    "    Airport TEXT PRIMARY KEY,\n",
    "    City TEXT,\n",
    "    State TEXT\n",
    ")\n",
    "'''\n",
    "create_table(conn_1,create_airports_sql)\n",
    "\n",
    "airports_sql_statement = '''SELECT DISTINCT Origin Airport,SUBSTR(OriginCityName,1,INSTR(OriginCityName,',')-1) City,OriginState State\n",
    "FROM Flights\n",
    "UNION\n",
    "SELECT DISTINCT Dest Airport,SUBSTR(DestCityName,1,INSTR(DestCityName,',')-1) City,DestState State\n",
    "FROM Flights\n",
    "'''\n",
    "\n",
    "#Executing Query\n",
    "airports = execute_sql_statement(airports_sql_statement, conn_1)\n",
    "with conn_1:\n",
    "    for airport in airports:\n",
    "        insert_airport(conn_1,airport)\n"
   ]
  },
  {
   "cell_type": "code",
   "execution_count": null,
   "metadata": {},
   "outputs": [],
   "source": []
  }
 ],
 "metadata": {
  "kernelspec": {
   "display_name": "Python 3.9.6 64-bit",
   "language": "python",
   "name": "python3"
  },
  "language_info": {
   "codemirror_mode": {
    "name": "ipython",
    "version": 3
   },
   "file_extension": ".py",
   "mimetype": "text/x-python",
   "name": "python",
   "nbconvert_exporter": "python",
   "pygments_lexer": "ipython3",
   "version": "3.9.6"
  },
  "orig_nbformat": 4,
  "vscode": {
   "interpreter": {
    "hash": "31f2aee4e71d21fbe5cf8b01ff0e069b9275f58929596ceb00d14d90e3e16cd6"
   }
  }
 },
 "nbformat": 4,
 "nbformat_minor": 2
}

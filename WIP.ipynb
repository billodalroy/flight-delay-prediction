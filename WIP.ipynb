{
 "cells": [
  {
   "cell_type": "code",
   "execution_count": 24,
   "metadata": {},
   "outputs": [],
   "source": [
    "from sqlite_helper import *\n",
    "conn_1 = create_connection(\"main.db\")"
   ]
  },
  {
   "cell_type": "code",
   "execution_count": 2,
   "metadata": {},
   "outputs": [
    {
     "name": "stdout",
     "output_type": "stream",
     "text": [
      "['Code', 'Description']\n"
     ]
    }
   ],
   "source": [
    "header = None\n",
    "with open(\"Airlines.csv\") as file:\n",
    "    for line in file:\n",
    "        if not header:\n",
    "            header = line.strip().split(',')\n",
    "            print(header)\n",
    "            break"
   ]
  },
  {
   "cell_type": "code",
   "execution_count": 6,
   "metadata": {},
   "outputs": [],
   "source": [
    "create_flights_sql = '''CREATE TABLE Flights (\n",
    "    FlightDate DATE,\n",
    "    Airline TEXT, \n",
    "    Origin TEXT, \n",
    "    Dest TEXT, \n",
    "    Cancelled TEXT, \n",
    "    Diverted TEXT, \n",
    "    CRSDepTime INTEGER, \n",
    "    DepTime INTEGER, \n",
    "    DepDelayMinutes INTEGER, \n",
    "    DepDelay INTEGER, \n",
    "    ArrTime INTEGER, \n",
    "    ArrDelayMinutes INTEGER, \n",
    "    AirTime INTEGER, \n",
    "    CRSElapsedTime INTEGER, \n",
    "    ActualElapsedTime INTEGER, \n",
    "    Distance INTEGER, \n",
    "    Year INTEGER, \n",
    "    Quarter INTEGER, \n",
    "    Month INTEGER, \n",
    "    DayofMonth TEXT, \n",
    "    DayOfWeek TEXT, \n",
    "    Marketing_Airline_Network TEXT, \n",
    "    Operated_or_Branded_Code_Share_Partners TEXT, \n",
    "    DOT_ID_Marketing_Airline INTEGER, \n",
    "    IATA_Code_Marketing_Airline TEXT, \n",
    "    Flight_Number_Marketing_Airline TEXT, \n",
    "    Operating_Airline TEXT, \n",
    "    DOT_ID_Operating_Airline TEXT,\n",
    "    IATA_Code_Operating_Airline TEXT, \n",
    "    Tail_Number TEXT, \n",
    "    Flight_Number_Operating_Airline TEXT, \n",
    "    OriginAirportID TEXT, \n",
    "    OriginAirportSeqID TEXT, \n",
    "    OriginCityMarketID TEXT, \n",
    "    OriginCityName TEXT, \n",
    "    OriginState TEXT, \n",
    "    OriginStateFips TEXT, \n",
    "    OriginStateName TEXT, \n",
    "    OriginWac TEXT, \n",
    "    DestAirportID TEXT, \n",
    "    DestAirportSeqID TEXT, \n",
    "    DestCityMarketID TEXT, \n",
    "    DestCityName TEXT, \n",
    "    DestState TEXT, \n",
    "    DestStateFips TEXT, \n",
    "    DestStateName TEXT, \n",
    "    DestWac TEXT, \n",
    "    DepDel15 TEXT, \n",
    "    DepartureDelayGroups TEXT, \n",
    "    DepTimeBlk TEXT, \n",
    "    TaxiOut TEXT, \n",
    "    WheelsOff TEXT, \n",
    "    WheelsOn TEXT, \n",
    "    TaxiIn TEXT, \n",
    "    CRSArrTime TEXT, \n",
    "    ArrDelay TEXT, \n",
    "    ArrDel15 TEXT, \n",
    "    ArrivalDelayGroups TEXT, \n",
    "    ArrTimeBlk TEXT, \n",
    "    DistanceGroup TEXT, \n",
    "    DivAirportLandings TEXT\n",
    ")\n",
    "'''"
   ]
  },
  {
   "cell_type": "code",
   "execution_count": 7,
   "metadata": {},
   "outputs": [],
   "source": [
    "create_table(conn_1, create_flights_sql)\n"
   ]
  },
  {
   "cell_type": "code",
   "execution_count": null,
   "metadata": {},
   "outputs": [],
   "source": []
  },
  {
   "cell_type": "code",
   "execution_count": 3,
   "metadata": {},
   "outputs": [],
   "source": [
    "# Create Airlines Table\n",
    "create_airlines_sql = '''CREATE TABLE airlines (\n",
    "    Code TEXT PRIMARY KEY,\n",
    "    Description TEXT\n",
    ")\n",
    "'''\n",
    "create_table(conn_1, create_airlines_sql)"
   ]
  },
  {
   "cell_type": "code",
   "execution_count": 11,
   "metadata": {},
   "outputs": [],
   "source": [
    "import csv"
   ]
  },
  {
   "cell_type": "code",
   "execution_count": 28,
   "metadata": {},
   "outputs": [
    {
     "name": "stdout",
     "output_type": "stream",
     "text": [
      "['2021-03-03', 'SkyWest Airlines Inc.', 'SGU', 'PHX', 'False', 'False', '724', '714.0', '0.0', '-10.0', '818.0', '0.0', '49.0', '79.0', '64.0', '262.0', '2021', '1', '3', '3', '3', 'AA', 'AA_CODESHARE', '19805', 'AA', '3133', 'OO', '20304', 'OO', 'N728SK', '3133', '14794', '1479405', '34794', 'St. George, UT', 'UT', '49', 'Utah', '87', '14107', '1410702', '30466', 'Phoenix, AZ', 'AZ', '4', 'Arizona', '81', '0.0', '-1.0', '0700-0759', '10.0', '724.0', '813.0', '5.0', '843', '-25.0', '0.0', '-2.0', '0800-0859', '2', '0.0']\n",
      "None\n"
     ]
    }
   ],
   "source": [
    "header = None\n",
    "count = 0\n",
    "with conn_1:\n",
    "    with open(\"Combined_Flights_2021.csv\") as file:\n",
    "        # for line in file:\n",
    "        #     if not header:\n",
    "        #         header = 1\n",
    "        #         continue\n",
    "            \n",
    "        # values = tuple(csv.reader([line]))[0]\n",
    "        values = csv.reader(file)\n",
    "        for row in values:\n",
    "            if not header:\n",
    "                header = 1\n",
    "                continue\n",
    "            print(row)\n",
    "        # print(values) \n",
    "            rid = insert_master_record(conn_1,tuple(row))\n",
    "            print(rid)\n",
    "            break\n",
    "        "
   ]
  },
  {
   "cell_type": "code",
   "execution_count": null,
   "metadata": {},
   "outputs": [],
   "source": []
  },
  {
   "cell_type": "code",
   "execution_count": 24,
   "metadata": {},
   "outputs": [
    {
     "data": {
      "text/plain": [
       "<function sqlite_helper.create_connection(db_file)>"
      ]
     },
     "execution_count": 24,
     "metadata": {},
     "output_type": "execute_result"
    }
   ],
   "source": [
    "create_connection"
   ]
  },
  {
   "cell_type": "code",
   "execution_count": null,
   "metadata": {},
   "outputs": [],
   "source": []
  }
 ],
 "metadata": {
  "kernelspec": {
   "display_name": "Python 3.9.6 64-bit",
   "language": "python",
   "name": "python3"
  },
  "language_info": {
   "codemirror_mode": {
    "name": "ipython",
    "version": 3
   },
   "file_extension": ".py",
   "mimetype": "text/x-python",
   "name": "python",
   "nbconvert_exporter": "python",
   "pygments_lexer": "ipython3",
   "version": "3.9.6"
  },
  "orig_nbformat": 4,
  "vscode": {
   "interpreter": {
    "hash": "31f2aee4e71d21fbe5cf8b01ff0e069b9275f58929596ceb00d14d90e3e16cd6"
   }
  }
 },
 "nbformat": 4,
 "nbformat_minor": 2
}

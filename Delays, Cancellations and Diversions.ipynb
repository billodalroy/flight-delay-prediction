{
 "cells": [
  {
   "cell_type": "markdown",
   "metadata": {},
   "source": [
    "### Importing the data"
   ]
  },
  {
   "cell_type": "code",
   "execution_count": 1,
   "metadata": {},
   "outputs": [],
   "source": [
    "import pandas as pd\n",
    "import sqlite3\n",
    "from sqlite3 import Error\n",
    "import numpy as np\n",
    "import matplotlib.pyplot as plt\n",
    "\n",
    "def create_connection(db_file, delete_db=False):\n",
    "    import os\n",
    "    if delete_db and os.path.exists(db_file):\n",
    "        os.remove(db_file)\n",
    "\n",
    "    conn = None\n",
    "    try:\n",
    "        conn = sqlite3.connect(db_file)\n",
    "        conn.execute(\"PRAGMA foreign_keys = 1\")\n",
    "    except Error as e:\n",
    "        print(e)\n",
    "\n",
    "    return conn\n",
    "\n",
    "conn = create_connection('main.db')"
   ]
  },
  {
   "cell_type": "markdown",
   "metadata": {},
   "source": [
    "### By Airline (Delays, Cancellation, Diversion)"
   ]
  },
  {
   "cell_type": "code",
   "execution_count": 2,
   "metadata": {},
   "outputs": [],
   "source": [
    "#Delay by Airline\n",
    "sql_statement = '''SELECT\n",
    "    f.IATA_Code_Marketing_Airline AS Airline,\n",
    "    AVG(f.DepDelayMinutes) DepartingDelayAverage,\n",
    "    AVG(f.ArrDelayMinutes) ArrivalDelayAverage,\n",
    "    AVG(f.DepDelayMinutes + f.ArrDelayMinutes) TotalDelayAverage\n",
    "    FROM flights f\n",
    "    WHERE Airline = 'DL' OR Airline = 'AA' OR Airline = 'UA' OR Airline = 'WN'\n",
    "    GROUP BY Airline\n",
    "    ORDER BY TotalDelayAverage DESC\n",
    "'''\n",
    "delay_by_airline = pd.read_sql_query(sql_statement, conn)"
   ]
  },
  {
   "cell_type": "code",
   "execution_count": 3,
   "metadata": {},
   "outputs": [
    {
     "name": "stdout",
     "output_type": "stream",
     "text": [
      "  Airline  DepartingDelayAverage  ArrivalDelayAverage  TotalDelayAverage\n",
      "0      UA              14.550718            14.799600          29.350318\n",
      "1      AA              13.882014            13.999795          27.881810\n",
      "2      WN              14.921043            12.789838          27.710880\n",
      "3      DL              10.683166            10.458301          21.141467\n"
     ]
    }
   ],
   "source": [
    "print(delay_by_airline)"
   ]
  },
  {
   "cell_type": "code",
   "execution_count": 4,
   "metadata": {},
   "outputs": [
    {
     "data": {
      "image/png": "[encoded data removed]",
      "text/plain": [
       "<Figure size 648x216 with 1 Axes>"
      ]
     },
     "metadata": {
      "needs_background": "light"
     },
     "output_type": "display_data"
    }
   ],
   "source": [
    "plt.figure(figsize=(9, 3))\n",
    "plt.bar(delay_by_airline['Airline'], delay_by_airline['TotalDelayAverage'], width = 0.5)\n",
    "plt.xlabel('Airlines')\n",
    "plt.ylabel('Average Delay (Minutes)')\n",
    "plt.show()"
   ]
  },
  {
   "cell_type": "code",
   "execution_count": 5,
   "metadata": {},
   "outputs": [],
   "source": [
    "#Cancellation rate by Airline\n",
    "sql_statement='''\n",
    "SELECT f.IATA_Code_Marketing_Airline AS Airline,\n",
    "((CAST(\n",
    "SUM(\n",
    "    CASE\n",
    "        WHEN f.Cancelled = 'False' THEN 0\n",
    "        ELSE 1\n",
    "    END\n",
    ") AS REAL\n",
    ") / COUNT(*)) * 100) CancellationRatePercent\n",
    "FROM flights f\n",
    "WHERE Airline = 'DL' OR Airline = 'AA' OR Airline = 'UA' OR Airline = 'WN'\n",
    "GROUP BY Airline\n",
    "ORDER BY CancellationRatePercent DESC\n",
    "'''\n",
    "cancellation_by_airline = pd.read_sql_query(sql_statement, conn)"
   ]
  },
  {
   "cell_type": "code",
   "execution_count": 6,
   "metadata": {},
   "outputs": [
    {
     "name": "stdout",
     "output_type": "stream",
     "text": [
      "  Airline  CancellationRatePercent\n",
      "0      UA                 2.639959\n",
      "1      AA                 2.583538\n",
      "2      WN                 2.319371\n",
      "3      DL                 1.306833\n"
     ]
    }
   ],
   "source": [
    "print(cancellation_by_airline)"
   ]
  },
  {
   "cell_type": "code",
   "execution_count": 7,
   "metadata": {},
   "outputs": [
    {
     "data": {
      "image/png": "[encoded data removed]",
      "text/plain": [
       "<Figure size 648x216 with 1 Axes>"
      ]
     },
     "metadata": {
      "needs_background": "light"
     },
     "output_type": "display_data"
    }
   ],
   "source": [
    "plt.figure(figsize=(9, 3))\n",
    "plt.bar(cancellation_by_airline['Airline'], cancellation_by_airline['CancellationRatePercent'], width = 0.5)\n",
    "plt.xlabel('Airlines')\n",
    "plt.ylabel('Cancellaition Rate (%)')\n",
    "plt.show()"
   ]
  },
  {
   "cell_type": "code",
   "execution_count": 8,
   "metadata": {},
   "outputs": [],
   "source": [
    "#Diversion rate by Airline\n",
    "sql_statement = '''\n",
    "SELECT f.IATA_Code_Marketing_Airline AS Airline,\n",
    "((CAST(\n",
    "SUM(\n",
    "    CASE\n",
    "        WHEN f.Diverted = 'False' THEN 0\n",
    "        ELSE 1\n",
    "    END\n",
    ") AS REAL\n",
    ") / COUNT(*)) * 100) DiversionRatePercent\n",
    "FROM flights f\n",
    "WHERE Airline = 'DL' OR Airline = 'AA' OR Airline = 'UA' OR Airline = 'WN'\n",
    "GROUP BY Airline\n",
    "ORDER BY DiversionRatePercent DESC\n",
    "'''\n",
    "diversion_by_airline = pd.read_sql_query(sql_statement, conn)"
   ]
  },
  {
   "cell_type": "code",
   "execution_count": 9,
   "metadata": {},
   "outputs": [
    {
     "name": "stdout",
     "output_type": "stream",
     "text": [
      "  Airline  DiversionRatePercent\n",
      "0      UA              0.292676\n",
      "1      AA              0.272379\n",
      "2      WN              0.216524\n",
      "3      DL              0.188943\n"
     ]
    }
   ],
   "source": [
    "print(diversion_by_airline)"
   ]
  },
  {
   "cell_type": "code",
   "execution_count": 10,
   "metadata": {},
   "outputs": [
    {
     "data": {
      "image/png": "[encoded data removed]",
      "text/plain": [
       "<Figure size 648x216 with 1 Axes>"
      ]
     },
     "metadata": {
      "needs_background": "light"
     },
     "output_type": "display_data"
    }
   ],
   "source": [
    "plt.figure(figsize=(9, 3))\n",
    "plt.bar(diversion_by_airline['Airline'], diversion_by_airline['DiversionRatePercent'], width = 0.5)\n",
    "plt.xlabel('Airlines')\n",
    "plt.ylabel('Diversion Rate (%)')\n",
    "plt.show()"
   ]
  },
  {
   "cell_type": "markdown",
   "metadata": {},
   "source": [
    "### By Month (Delays, Cancellation, Diversion)"
   ]
  },
  {
   "cell_type": "code",
   "execution_count": 11,
   "metadata": {},
   "outputs": [],
   "source": [
    "#Delay by month\n",
    "sql_statement = '''\n",
    "WITH tmp AS(SELECT\n",
    "    CASE\n",
    "\t\tWHEN strftime('%m', f.FlightDate) = '01' THEN 'January'\n",
    "\t\tWHEN strftime('%m', f.FlightDate) = '02' THEN 'February'\n",
    "\t\tWHEN strftime('%m', f.FlightDate) = '03' THEN 'March'\n",
    "\t\tWHEN strftime('%m', f.FlightDate) = '04' THEN 'April'\n",
    "\t\tWHEN strftime('%m', f.FlightDate) = '05' THEN 'May'\n",
    "\t\tWHEN strftime('%m', f.FlightDate) = '06' THEN 'June'\n",
    "\t\tWHEN strftime('%m', f.FlightDate) = '07' THEN 'July'\n",
    "\t\tWHEN strftime('%m', f.FlightDate) = '08' THEN 'August'\n",
    "\t\tWHEN strftime('%m', f.FlightDate) = '09' THEN 'September'\n",
    "\t\tWHEN strftime('%m', f.FlightDate) = '10' THEN 'October'\n",
    "\t\tWHEN strftime('%m', f.FlightDate) = '11' THEN 'November'\n",
    "\t\tWHEN strftime('%m', f.FlightDate) = '12' THEN 'December'\n",
    "\tEND Month,\n",
    "    AVG(f.DepDelayMinutes) DepartingDelayAverage,\n",
    "    AVG(f.ArrDelayMinutes) ArrivalDelayAverage,\n",
    "    AVG(f.DepDelayMinutes + f.ArrDelayMinutes) TotalDelayAverage\n",
    "    FROM flights f\n",
    "    WHERE f.IATA_Code_Marketing_Airline = 'DL'\n",
    "    OR f.IATA_Code_Marketing_Airline = 'AA'\n",
    "    OR f.IATA_Code_Marketing_Airline = 'UA'\n",
    "    OR f.IATA_Code_Marketing_Airline = 'WN'\n",
    "    GROUP BY Month\n",
    ")\n",
    "\n",
    "\n",
    "SELECT * FROM tmp\n",
    "ORDER BY TotalDelayAverage DESC\n",
    "'''\n",
    "delay_by_month = pd.read_sql_query(sql_statement, conn)"
   ]
  },
  {
   "cell_type": "code",
   "execution_count": 12,
   "metadata": {},
   "outputs": [
    {
     "name": "stdout",
     "output_type": "stream",
     "text": [
      "        Month  DepartingDelayAverage  ArrivalDelayAverage  TotalDelayAverage\n",
      "0        July              17.871995            17.408437          35.280432\n",
      "1        June              17.918529            17.336399          35.254928\n",
      "2      August              16.970659            16.718722          33.689382\n",
      "3    December              15.051839            14.165860          29.217699\n",
      "4     October              13.336888            12.570833          25.907721\n",
      "5         May              12.613527            12.220915          24.834443\n",
      "6    February              11.538036            11.627643          23.165679\n",
      "7       April              11.140944            10.854914          21.995857\n",
      "8       March              11.092852            10.845619          21.938472\n",
      "9     January              10.624916            10.456521          21.081436\n",
      "10   November              10.360073             9.408147          19.768220\n",
      "11  September              10.011051             9.584086          19.595137\n"
     ]
    }
   ],
   "source": [
    "print(delay_by_month)"
   ]
  },
  {
   "cell_type": "code",
   "execution_count": 13,
   "metadata": {},
   "outputs": [],
   "source": [
    "#Delay by month\n",
    "sql_statement = '''\n",
    "WITH tmp AS(SELECT\n",
    "    CASE\n",
    "\t\tWHEN strftime('%m', f.FlightDate) = '01' THEN 'January'\n",
    "\t\tWHEN strftime('%m', f.FlightDate) = '02' THEN 'February'\n",
    "\t\tWHEN strftime('%m', f.FlightDate) = '03' THEN 'March'\n",
    "\t\tWHEN strftime('%m', f.FlightDate) = '04' THEN 'April'\n",
    "\t\tWHEN strftime('%m', f.FlightDate) = '05' THEN 'May'\n",
    "\t\tWHEN strftime('%m', f.FlightDate) = '06' THEN 'June'\n",
    "\t\tWHEN strftime('%m', f.FlightDate) = '07' THEN 'July'\n",
    "\t\tWHEN strftime('%m', f.FlightDate) = '08' THEN 'August'\n",
    "\t\tWHEN strftime('%m', f.FlightDate) = '09' THEN 'September'\n",
    "\t\tWHEN strftime('%m', f.FlightDate) = '10' THEN 'October'\n",
    "\t\tWHEN strftime('%m', f.FlightDate) = '11' THEN 'November'\n",
    "\t\tWHEN strftime('%m', f.FlightDate) = '12' THEN 'December'\n",
    "\tEND Month,\n",
    "    CASE\n",
    "\t\tWHEN strftime('%m', f.FlightDate) = '01' THEN 1\n",
    "\t\tWHEN strftime('%m', f.FlightDate) = '02' THEN 2\n",
    "\t\tWHEN strftime('%m', f.FlightDate) = '03' THEN 3\n",
    "\t\tWHEN strftime('%m', f.FlightDate) = '04' THEN 4\n",
    "\t\tWHEN strftime('%m', f.FlightDate) = '05' THEN 5\n",
    "\t\tWHEN strftime('%m', f.FlightDate) = '06' THEN 6\n",
    "\t\tWHEN strftime('%m', f.FlightDate) = '07' THEN 7\n",
    "\t\tWHEN strftime('%m', f.FlightDate) = '08' THEN 8\n",
    "\t\tWHEN strftime('%m', f.FlightDate) = '09' THEN 9\n",
    "\t\tWHEN strftime('%m', f.FlightDate) = '10' THEN 10\n",
    "\t\tWHEN strftime('%m', f.FlightDate) = '11' THEN 11\n",
    "\t\tWHEN strftime('%m', f.FlightDate) = '12' THEN 12\n",
    "\tEND MonthNumber,\n",
    "    AVG(f.DepDelayMinutes) DepartingDelayAverage,\n",
    "    AVG(f.ArrDelayMinutes) ArrivalDelayAverage,\n",
    "    AVG(f.DepDelayMinutes + f.ArrDelayMinutes) TotalDelayAverage\n",
    "    FROM flights f\n",
    "    WHERE f.IATA_Code_Marketing_Airline = 'DL'\n",
    "    OR f.IATA_Code_Marketing_Airline = 'AA'\n",
    "    OR f.IATA_Code_Marketing_Airline = 'UA'\n",
    "    OR f.IATA_Code_Marketing_Airline = 'WN'\n",
    "    GROUP BY Month\n",
    ")\n",
    "\n",
    "\n",
    "SELECT Month, DepartingDelayAverage, ArrivalDelayAverage, TotalDelayAverage FROM tmp\n",
    "ORDER BY MonthNumber\n",
    "'''\n",
    "delay_by_month = pd.read_sql_query(sql_statement, conn)"
   ]
  },
  {
   "cell_type": "code",
   "execution_count": 14,
   "metadata": {},
   "outputs": [
    {
     "data": {
      "image/png": "[encoded data removed]",
      "text/plain": [
       "<Figure size 1080x288 with 1 Axes>"
      ]
     },
     "metadata": {
      "needs_background": "light"
     },
     "output_type": "display_data"
    }
   ],
   "source": [
    "plt.figure(figsize=(15, 4))\n",
    "plt.plot(delay_by_month['Month'], delay_by_month['TotalDelayAverage'], marker='o', linestyle='solid')\n",
    "plt.xlabel('Month')\n",
    "plt.ylabel('Delay Time (Minutes)')\n",
    "plt.show()"
   ]
  },
  {
   "cell_type": "code",
   "execution_count": 15,
   "metadata": {},
   "outputs": [],
   "source": [
    "#Cancellation rate by month\n",
    "sql_statement='''\n",
    "WITH tmp AS(SELECT\n",
    "    CASE\n",
    "\t\tWHEN strftime('%m', f.FlightDate) = '01' THEN 'January'\n",
    "\t\tWHEN strftime('%m', f.FlightDate) = '02' THEN 'February'\n",
    "\t\tWHEN strftime('%m', f.FlightDate) = '03' THEN 'March'\n",
    "\t\tWHEN strftime('%m', f.FlightDate) = '04' THEN 'April'\n",
    "\t\tWHEN strftime('%m', f.FlightDate) = '05' THEN 'May'\n",
    "\t\tWHEN strftime('%m', f.FlightDate) = '06' THEN 'June'\n",
    "\t\tWHEN strftime('%m', f.FlightDate) = '07' THEN 'July'\n",
    "\t\tWHEN strftime('%m', f.FlightDate) = '08' THEN 'August'\n",
    "\t\tWHEN strftime('%m', f.FlightDate) = '09' THEN 'September'\n",
    "\t\tWHEN strftime('%m', f.FlightDate) = '10' THEN 'October'\n",
    "\t\tWHEN strftime('%m', f.FlightDate) = '11' THEN 'November'\n",
    "\t\tWHEN strftime('%m', f.FlightDate) = '12' THEN 'December'\n",
    "\tEND Month,\n",
    "((CAST(\n",
    "SUM(\n",
    "    CASE\n",
    "        WHEN f.Cancelled = 'False' THEN 0\n",
    "        ELSE 1\n",
    "    END\n",
    ") AS REAL\n",
    ") / COUNT(*)) * 100) CancellationRatePercent\n",
    "    \n",
    "    \n",
    "    FROM flights f\n",
    "    WHERE f.IATA_Code_Marketing_Airline = 'DL'\n",
    "    OR f.IATA_Code_Marketing_Airline = 'AA'\n",
    "    OR f.IATA_Code_Marketing_Airline = 'UA'\n",
    "    OR f.IATA_Code_Marketing_Airline = 'WN'\n",
    "    GROUP BY Month\n",
    "    ORDER BY CancellationRatePercent DESC\n",
    ")\n",
    "\n",
    "\n",
    "SELECT * FROM tmp\n",
    "ORDER BY CancellationRatePercent DESC\n",
    "'''\n",
    "cancellation_by_month = pd.read_sql_query(sql_statement, conn)"
   ]
  },
  {
   "cell_type": "code",
   "execution_count": 16,
   "metadata": {},
   "outputs": [
    {
     "name": "stdout",
     "output_type": "stream",
     "text": [
      "        Month  CancellationRatePercent\n",
      "0    February                 5.255416\n",
      "1     January                 4.195801\n",
      "2      August                 2.777532\n",
      "3        June                 2.546937\n",
      "4     October                 2.288984\n",
      "5    December                 1.952426\n",
      "6        July                 1.762907\n",
      "7   September                 1.392084\n",
      "8       March                 1.313447\n",
      "9         May                 1.301966\n",
      "10      April                 1.037783\n",
      "11   November                 0.600816\n"
     ]
    }
   ],
   "source": [
    "print(cancellation_by_month)"
   ]
  },
  {
   "cell_type": "code",
   "execution_count": 17,
   "metadata": {},
   "outputs": [],
   "source": [
    "sql_statement='''\n",
    "WITH tmp AS(SELECT\n",
    "    CASE\n",
    "\t\tWHEN strftime('%m', f.FlightDate) = '01' THEN 'January'\n",
    "\t\tWHEN strftime('%m', f.FlightDate) = '02' THEN 'February'\n",
    "\t\tWHEN strftime('%m', f.FlightDate) = '03' THEN 'March'\n",
    "\t\tWHEN strftime('%m', f.FlightDate) = '04' THEN 'April'\n",
    "\t\tWHEN strftime('%m', f.FlightDate) = '05' THEN 'May'\n",
    "\t\tWHEN strftime('%m', f.FlightDate) = '06' THEN 'June'\n",
    "\t\tWHEN strftime('%m', f.FlightDate) = '07' THEN 'July'\n",
    "\t\tWHEN strftime('%m', f.FlightDate) = '08' THEN 'August'\n",
    "\t\tWHEN strftime('%m', f.FlightDate) = '09' THEN 'September'\n",
    "\t\tWHEN strftime('%m', f.FlightDate) = '10' THEN 'October'\n",
    "\t\tWHEN strftime('%m', f.FlightDate) = '11' THEN 'November'\n",
    "\t\tWHEN strftime('%m', f.FlightDate) = '12' THEN 'December'\n",
    "\tEND Month,\n",
    "    CASE\n",
    "\t\tWHEN strftime('%m', f.FlightDate) = '01' THEN 1\n",
    "\t\tWHEN strftime('%m', f.FlightDate) = '02' THEN 2\n",
    "\t\tWHEN strftime('%m', f.FlightDate) = '03' THEN 3\n",
    "\t\tWHEN strftime('%m', f.FlightDate) = '04' THEN 4\n",
    "\t\tWHEN strftime('%m', f.FlightDate) = '05' THEN 5\n",
    "\t\tWHEN strftime('%m', f.FlightDate) = '06' THEN 6\n",
    "\t\tWHEN strftime('%m', f.FlightDate) = '07' THEN 7\n",
    "\t\tWHEN strftime('%m', f.FlightDate) = '08' THEN 8\n",
    "\t\tWHEN strftime('%m', f.FlightDate) = '09' THEN 9\n",
    "\t\tWHEN strftime('%m', f.FlightDate) = '10' THEN 10\n",
    "\t\tWHEN strftime('%m', f.FlightDate) = '11' THEN 11\n",
    "\t\tWHEN strftime('%m', f.FlightDate) = '12' THEN 12\n",
    "\tEND MonthNumber,\n",
    "((CAST(\n",
    "SUM(\n",
    "    CASE\n",
    "        WHEN f.Cancelled = 'False' THEN 0\n",
    "        ELSE 1\n",
    "    END\n",
    ") AS REAL\n",
    ") / COUNT(*)) * 100) CancellationRatePercent\n",
    "    \n",
    "    \n",
    "    FROM flights f\n",
    "    WHERE f.IATA_Code_Marketing_Airline = 'DL'\n",
    "    OR f.IATA_Code_Marketing_Airline = 'AA'\n",
    "    OR f.IATA_Code_Marketing_Airline = 'UA'\n",
    "    OR f.IATA_Code_Marketing_Airline = 'WN'\n",
    "    GROUP BY Month\n",
    "    ORDER BY CancellationRatePercent DESC\n",
    ")\n",
    "\n",
    "\n",
    "SELECT * FROM tmp\n",
    "ORDER BY MonthNumber\n",
    "'''\n",
    "cancellation_by_month = pd.read_sql_query(sql_statement, conn)"
   ]
  },
  {
   "cell_type": "code",
   "execution_count": 18,
   "metadata": {},
   "outputs": [
    {
     "data": {
      "image/png": "[encoded data removed]",
      "text/plain": [
       "<Figure size 1080x288 with 1 Axes>"
      ]
     },
     "metadata": {
      "needs_background": "light"
     },
     "output_type": "display_data"
    }
   ],
   "source": [
    "plt.figure(figsize=(15, 4))\n",
    "plt.plot(cancellation_by_month['Month'], cancellation_by_month['CancellationRatePercent'], marker='o', linestyle='solid')\n",
    "plt.xlabel('Month')\n",
    "plt.ylabel('Cancellation Rate (%)')\n",
    "plt.show()"
   ]
  },
  {
   "cell_type": "code",
   "execution_count": 19,
   "metadata": {},
   "outputs": [],
   "source": [
    "#Diversion rate by month\n",
    "sql_statement='''\n",
    "WITH tmp AS(SELECT\n",
    "    CASE\n",
    "\t\tWHEN strftime('%m', f.FlightDate) = '01' THEN 'January'\n",
    "\t\tWHEN strftime('%m', f.FlightDate) = '02' THEN 'February'\n",
    "\t\tWHEN strftime('%m', f.FlightDate) = '03' THEN 'March'\n",
    "\t\tWHEN strftime('%m', f.FlightDate) = '04' THEN 'April'\n",
    "\t\tWHEN strftime('%m', f.FlightDate) = '05' THEN 'May'\n",
    "\t\tWHEN strftime('%m', f.FlightDate) = '06' THEN 'June'\n",
    "\t\tWHEN strftime('%m', f.FlightDate) = '07' THEN 'July'\n",
    "\t\tWHEN strftime('%m', f.FlightDate) = '08' THEN 'August'\n",
    "\t\tWHEN strftime('%m', f.FlightDate) = '09' THEN 'September'\n",
    "\t\tWHEN strftime('%m', f.FlightDate) = '10' THEN 'October'\n",
    "\t\tWHEN strftime('%m', f.FlightDate) = '11' THEN 'November'\n",
    "\t\tWHEN strftime('%m', f.FlightDate) = '12' THEN 'December'\n",
    "\tEND Month,\n",
    "    \n",
    "((CAST(\n",
    "SUM(\n",
    "    CASE\n",
    "        WHEN f.Diverted = 'False' THEN 0\n",
    "        ELSE 1\n",
    "    END\n",
    ") AS REAL\n",
    ") / COUNT(*)) * 100) DiversionRatePercent\n",
    "    \n",
    "    \n",
    "    FROM flights f\n",
    "    WHERE f.IATA_Code_Marketing_Airline = 'DL'\n",
    "    OR f.IATA_Code_Marketing_Airline = 'AA'\n",
    "    OR f.IATA_Code_Marketing_Airline = 'UA'\n",
    "    OR f.IATA_Code_Marketing_Airline = 'WN'\n",
    "    GROUP BY Month\n",
    "    ORDER BY DiversionRatePercent DESC\n",
    ")\n",
    "\n",
    "\n",
    "SELECT * FROM tmp\n",
    "ORDER BY DiversionRatePercent DESC\n",
    "'''\n",
    "diversion_by_month = pd.read_sql_query(sql_statement, conn)"
   ]
  },
  {
   "cell_type": "code",
   "execution_count": 20,
   "metadata": {},
   "outputs": [
    {
     "name": "stdout",
     "output_type": "stream",
     "text": [
      "        Month  DiversionRatePercent\n",
      "0      August              0.376848\n",
      "1        July              0.358321\n",
      "2        June              0.317866\n",
      "3         May              0.267712\n",
      "4    December              0.230551\n",
      "5       March              0.219252\n",
      "6       April              0.204417\n",
      "7     October              0.185021\n",
      "8     January              0.182382\n",
      "9    February              0.177644\n",
      "10  September              0.173038\n",
      "11   November              0.125135\n"
     ]
    }
   ],
   "source": [
    "print(diversion_by_month)"
   ]
  },
  {
   "cell_type": "code",
   "execution_count": 21,
   "metadata": {},
   "outputs": [],
   "source": [
    "sql_statement='''\n",
    "WITH tmp AS(SELECT\n",
    "    CASE\n",
    "\t\tWHEN strftime('%m', f.FlightDate) = '01' THEN 'January'\n",
    "\t\tWHEN strftime('%m', f.FlightDate) = '02' THEN 'February'\n",
    "\t\tWHEN strftime('%m', f.FlightDate) = '03' THEN 'March'\n",
    "\t\tWHEN strftime('%m', f.FlightDate) = '04' THEN 'April'\n",
    "\t\tWHEN strftime('%m', f.FlightDate) = '05' THEN 'May'\n",
    "\t\tWHEN strftime('%m', f.FlightDate) = '06' THEN 'June'\n",
    "\t\tWHEN strftime('%m', f.FlightDate) = '07' THEN 'July'\n",
    "\t\tWHEN strftime('%m', f.FlightDate) = '08' THEN 'August'\n",
    "\t\tWHEN strftime('%m', f.FlightDate) = '09' THEN 'September'\n",
    "\t\tWHEN strftime('%m', f.FlightDate) = '10' THEN 'October'\n",
    "\t\tWHEN strftime('%m', f.FlightDate) = '11' THEN 'November'\n",
    "\t\tWHEN strftime('%m', f.FlightDate) = '12' THEN 'December'\n",
    "\tEND Month,\n",
    "    CASE\n",
    "\t\tWHEN strftime('%m', f.FlightDate) = '01' THEN 1\n",
    "\t\tWHEN strftime('%m', f.FlightDate) = '02' THEN 2\n",
    "\t\tWHEN strftime('%m', f.FlightDate) = '03' THEN 3\n",
    "\t\tWHEN strftime('%m', f.FlightDate) = '04' THEN 4\n",
    "\t\tWHEN strftime('%m', f.FlightDate) = '05' THEN 5\n",
    "\t\tWHEN strftime('%m', f.FlightDate) = '06' THEN 6\n",
    "\t\tWHEN strftime('%m', f.FlightDate) = '07' THEN 7\n",
    "\t\tWHEN strftime('%m', f.FlightDate) = '08' THEN 8\n",
    "\t\tWHEN strftime('%m', f.FlightDate) = '09' THEN 9\n",
    "\t\tWHEN strftime('%m', f.FlightDate) = '10' THEN 10\n",
    "\t\tWHEN strftime('%m', f.FlightDate) = '11' THEN 11\n",
    "\t\tWHEN strftime('%m', f.FlightDate) = '12' THEN 12\n",
    "\tEND MonthNumber,\n",
    "((CAST(\n",
    "SUM(\n",
    "    CASE\n",
    "        WHEN f.Diverted = 'False' THEN 0\n",
    "        ELSE 1\n",
    "    END\n",
    ") AS REAL\n",
    ") / COUNT(*)) * 100) DiversionRatePercent\n",
    "    \n",
    "    \n",
    "    FROM flights f\n",
    "    WHERE f.IATA_Code_Marketing_Airline = 'DL'\n",
    "    OR f.IATA_Code_Marketing_Airline = 'AA'\n",
    "    OR f.IATA_Code_Marketing_Airline = 'UA'\n",
    "    OR f.IATA_Code_Marketing_Airline = 'WN'\n",
    "    GROUP BY Month\n",
    "    ORDER BY DiversionRatePercent DESC\n",
    ")\n",
    "\n",
    "\n",
    "SELECT * FROM tmp\n",
    "ORDER BY MonthNumber\n",
    "'''\n",
    "diversion_by_month = pd.read_sql_query(sql_statement, conn)"
   ]
  },
  {
   "cell_type": "code",
   "execution_count": 22,
   "metadata": {},
   "outputs": [
    {
     "data": {
      "image/png": "[encoded data removed]",
      "text/plain": [
       "<Figure size 1080x288 with 1 Axes>"
      ]
     },
     "metadata": {
      "needs_background": "light"
     },
     "output_type": "display_data"
    }
   ],
   "source": [
    "plt.figure(figsize=(15, 4))\n",
    "plt.plot(diversion_by_month['Month'], diversion_by_month['DiversionRatePercent'], marker='o', linestyle='solid')\n",
    "plt.xlabel('Month')\n",
    "plt.ylabel('Diversion Rate (%)')\n",
    "plt.show()"
   ]
  },
  {
   "cell_type": "markdown",
   "metadata": {},
   "source": [
    "### By Quarter (Delay, Cancellation, Diversion)"
   ]
  },
  {
   "cell_type": "code",
   "execution_count": 23,
   "metadata": {},
   "outputs": [],
   "source": [
    "#Delay by Quarter\n",
    "sql_statement = '''\n",
    "WITH tmp AS(SELECT\n",
    "    CASE\n",
    "\t\tWHEN 0 + strftime('%m', f.FlightDate) BETWEEN 1\n",
    "        AND 3 THEN 'Q1'\n",
    "        WHEN 0 + strftime('%m', f.FlightDate) BETWEEN 4\n",
    "        AND 6 THEN 'Q2'\n",
    "        WHEN 0 + strftime('%m', f.FlightDate) BETWEEN 7\n",
    "        AND 9 THEN 'Q3'\n",
    "        WHEN 0 + strftime('%m', f.FlightDate) BETWEEN 10\n",
    "        AND 12 THEN 'Q4'\n",
    "    end as Quarter,\n",
    "    AVG(f.DepDelayMinutes) DepartingDelayAverage,\n",
    "    AVG(f.ArrDelayMinutes) ArrivalDelayAverage,\n",
    "    AVG(f.DepDelayMinutes + f.ArrDelayMinutes) TotalDelayAverage\n",
    "    FROM flights f\n",
    "    WHERE f.IATA_Code_Marketing_Airline = 'DL'\n",
    "    OR f.IATA_Code_Marketing_Airline = 'AA'\n",
    "    OR f.IATA_Code_Marketing_Airline = 'UA'\n",
    "    OR f.IATA_Code_Marketing_Airline = 'WN'\n",
    "    GROUP BY Quarter\n",
    ")\n",
    "\n",
    "\n",
    "SELECT * FROM tmp\n",
    "ORDER BY TotalDelayAverage DESC\n",
    "'''\n",
    "delay_by_quarter = pd.read_sql_query(sql_statement, conn)"
   ]
  },
  {
   "cell_type": "code",
   "execution_count": 24,
   "metadata": {},
   "outputs": [
    {
     "name": "stdout",
     "output_type": "stream",
     "text": [
      "  Quarter  DepartingDelayAverage  ArrivalDelayAverage  TotalDelayAverage\n",
      "0      Q3              15.774788            15.373641          31.148429\n",
      "1      Q2              14.018641            13.592739          27.611379\n",
      "2      Q4              12.920862            12.054118          24.974980\n",
      "3      Q1              11.072499            10.953329          22.025828\n"
     ]
    }
   ],
   "source": [
    "print(delay_by_quarter)"
   ]
  },
  {
   "cell_type": "code",
   "execution_count": 25,
   "metadata": {},
   "outputs": [],
   "source": [
    "sql_statement = '''\n",
    "WITH tmp AS(SELECT\n",
    "    CASE\n",
    "\t\tWHEN 0 + strftime('%m', f.FlightDate) BETWEEN 1\n",
    "        AND 3 THEN 'Q1'\n",
    "        WHEN 0 + strftime('%m', f.FlightDate) BETWEEN 4\n",
    "        AND 6 THEN 'Q2'\n",
    "        WHEN 0 + strftime('%m', f.FlightDate) BETWEEN 7\n",
    "        AND 9 THEN 'Q3'\n",
    "        WHEN 0 + strftime('%m', f.FlightDate) BETWEEN 10\n",
    "        AND 12 THEN 'Q4'\n",
    "    end as Quarter,\n",
    "    AVG(f.DepDelayMinutes) DepartingDelayAverage,\n",
    "    AVG(f.ArrDelayMinutes) ArrivalDelayAverage,\n",
    "    AVG(f.DepDelayMinutes + f.ArrDelayMinutes) TotalDelayAverage\n",
    "    FROM flights f\n",
    "    WHERE f.IATA_Code_Marketing_Airline = 'DL'\n",
    "    OR f.IATA_Code_Marketing_Airline = 'AA'\n",
    "    OR f.IATA_Code_Marketing_Airline = 'UA'\n",
    "    OR f.IATA_Code_Marketing_Airline = 'WN'\n",
    "    GROUP BY Quarter\n",
    ")\n",
    "\n",
    "\n",
    "SELECT Quarter, DepartingDelayAverage, ArrivalDelayAverage, TotalDelayAverage,\n",
    "    CASE\n",
    "\t\tWHEN Quarter = 'Q1' THEN 1\n",
    "\t\tWHEN Quarter = 'Q2' THEN 2\n",
    "\t\tWHEN Quarter = 'Q3' THEN 3\n",
    "\t\tWHEN Quarter = 'Q4' THEN 4\n",
    "\tEND QuarterNumber\n",
    "FROM tmp\n",
    "ORDER BY QuarterNumber\n",
    "'''\n",
    "delay_by_quarter = pd.read_sql_query(sql_statement, conn)"
   ]
  },
  {
   "cell_type": "code",
   "execution_count": 26,
   "metadata": {},
   "outputs": [
    {
     "data": {
      "image/png": "[encoded data removed]",
      "text/plain": [
       "<Figure size 1080x288 with 1 Axes>"
      ]
     },
     "metadata": {
      "needs_background": "light"
     },
     "output_type": "display_data"
    }
   ],
   "source": [
    "plt.figure(figsize=(15, 4))\n",
    "plt.plot(delay_by_quarter['Quarter'], delay_by_quarter['TotalDelayAverage'], marker='o', linestyle='solid')\n",
    "plt.xlabel('Quarter')\n",
    "plt.ylabel('Average Delay (Minutes)')\n",
    "plt.show()"
   ]
  },
  {
   "cell_type": "code",
   "execution_count": 27,
   "metadata": {},
   "outputs": [],
   "source": [
    "sql_statement='''\n",
    "WITH tmp AS(SELECT\n",
    "    CASE\n",
    "\t\tWHEN 0 + strftime('%m', f.FlightDate) BETWEEN 1\n",
    "        AND 3 THEN 'Q1'\n",
    "        WHEN 0 + strftime('%m', f.FlightDate) BETWEEN 4\n",
    "        AND 6 THEN 'Q2'\n",
    "        WHEN 0 + strftime('%m', f.FlightDate) BETWEEN 7\n",
    "        AND 9 THEN 'Q3'\n",
    "        WHEN 0 + strftime('%m', f.FlightDate) BETWEEN 10\n",
    "        AND 12 THEN 'Q4'\n",
    "    end as Quarter,\n",
    "((CAST(\n",
    "SUM(\n",
    "    CASE\n",
    "        WHEN f.Cancelled = 'False' THEN 0\n",
    "        ELSE 1\n",
    "    END\n",
    ") AS REAL\n",
    ") / COUNT(*)) * 100) CancellationRatePercent\n",
    "    \n",
    "    \n",
    "    FROM flights f\n",
    "    WHERE f.IATA_Code_Marketing_Airline = 'DL'\n",
    "    OR f.IATA_Code_Marketing_Airline = 'AA'\n",
    "    OR f.IATA_Code_Marketing_Airline = 'UA'\n",
    "    OR f.IATA_Code_Marketing_Airline = 'WN'\n",
    "    GROUP BY Quarter\n",
    "    ORDER BY CancellationRatePercent DESC\n",
    ")\n",
    "\n",
    "\n",
    "SELECT * FROM tmp\n",
    "ORDER BY CancellationRatePercent DESC\n",
    "'''\n",
    "cancellation_by_quarter = pd.read_sql_query(sql_statement, conn)"
   ]
  },
  {
   "cell_type": "code",
   "execution_count": 28,
   "metadata": {},
   "outputs": [
    {
     "name": "stdout",
     "output_type": "stream",
     "text": [
      "  Quarter  CancellationRatePercent\n",
      "0      Q1                 3.461613\n",
      "1      Q3                 1.932296\n",
      "2      Q2                 1.657215\n",
      "3      Q4                 1.622194\n"
     ]
    }
   ],
   "source": [
    "print(cancellation_by_quarter)"
   ]
  },
  {
   "cell_type": "code",
   "execution_count": 29,
   "metadata": {},
   "outputs": [],
   "source": [
    "#Cancellation rate by Quarter\n",
    "sql_statement='''\n",
    "WITH tmp AS(SELECT\n",
    "    CASE\n",
    "\t\tWHEN 0 + strftime('%m', f.FlightDate) BETWEEN 1\n",
    "        AND 3 THEN 'Q1'\n",
    "        WHEN 0 + strftime('%m', f.FlightDate) BETWEEN 4\n",
    "        AND 6 THEN 'Q2'\n",
    "        WHEN 0 + strftime('%m', f.FlightDate) BETWEEN 7\n",
    "        AND 9 THEN 'Q3'\n",
    "        WHEN 0 + strftime('%m', f.FlightDate) BETWEEN 10\n",
    "        AND 12 THEN 'Q4'\n",
    "    end as Quarter,\n",
    "((CAST(\n",
    "SUM(\n",
    "    CASE\n",
    "        WHEN f.Cancelled = 'False' THEN 0\n",
    "        ELSE 1\n",
    "    END\n",
    ") AS REAL\n",
    ") / COUNT(*)) * 100) CancellationRatePercent\n",
    "    \n",
    "    \n",
    "    FROM flights f\n",
    "    WHERE f.IATA_Code_Marketing_Airline = 'DL'\n",
    "    OR f.IATA_Code_Marketing_Airline = 'AA'\n",
    "    OR f.IATA_Code_Marketing_Airline = 'UA'\n",
    "    OR f.IATA_Code_Marketing_Airline = 'WN'\n",
    "    GROUP BY Quarter\n",
    "    ORDER BY CancellationRatePercent DESC\n",
    ")\n",
    "\n",
    "\n",
    "SELECT Quarter, CancellationRatePercent,\n",
    "    CASE\n",
    "\t\tWHEN Quarter = 'Q1' THEN 1\n",
    "\t\tWHEN Quarter = 'Q2' THEN 2\n",
    "\t\tWHEN Quarter = 'Q3' THEN 3\n",
    "\t\tWHEN Quarter = 'Q4' THEN 4\n",
    "\tEND QuarterNumber\n",
    "FROM tmp\n",
    "ORDER BY QuarterNumber\n",
    "'''\n",
    "cancellation_by_quarter = pd.read_sql_query(sql_statement, conn)"
   ]
  },
  {
   "cell_type": "code",
   "execution_count": 30,
   "metadata": {},
   "outputs": [
    {
     "data": {
      "image/png": "[encoded data removed]",
      "text/plain": [
       "<Figure size 1080x288 with 1 Axes>"
      ]
     },
     "metadata": {
      "needs_background": "light"
     },
     "output_type": "display_data"
    }
   ],
   "source": [
    "plt.figure(figsize=(15, 4))\n",
    "plt.plot(cancellation_by_quarter['Quarter'], cancellation_by_quarter['CancellationRatePercent'], marker='o', linestyle='solid')\n",
    "plt.xlabel('Quarter')\n",
    "plt.ylabel('Cancellation Rate (%)')\n",
    "plt.show()"
   ]
  },
  {
   "cell_type": "code",
   "execution_count": 31,
   "metadata": {},
   "outputs": [],
   "source": [
    "#Diversion rate by Quarter\n",
    "sql_statement='''\n",
    "WITH tmp AS(SELECT\n",
    "    CASE\n",
    "\t\tWHEN 0 + strftime('%m', f.FlightDate) BETWEEN 1\n",
    "        AND 3 THEN 'Q1'\n",
    "        WHEN 0 + strftime('%m', f.FlightDate) BETWEEN 4\n",
    "        AND 6 THEN 'Q2'\n",
    "        WHEN 0 + strftime('%m', f.FlightDate) BETWEEN 7\n",
    "        AND 9 THEN 'Q3'\n",
    "        WHEN 0 + strftime('%m', f.FlightDate) BETWEEN 10\n",
    "        AND 12 THEN 'Q4'\n",
    "    end as Quarter,\n",
    "((CAST(\n",
    "SUM(\n",
    "    CASE\n",
    "        WHEN f.Diverted = 'False' THEN 0\n",
    "        ELSE 1\n",
    "    END\n",
    ") AS REAL\n",
    ") / COUNT(*)) * 100) DiversionRatePercent\n",
    "    \n",
    "    \n",
    "    FROM flights f\n",
    "    WHERE f.IATA_Code_Marketing_Airline = 'DL'\n",
    "    OR f.IATA_Code_Marketing_Airline = 'AA'\n",
    "    OR f.IATA_Code_Marketing_Airline = 'UA'\n",
    "    OR f.IATA_Code_Marketing_Airline = 'WN'\n",
    "    GROUP BY Quarter\n",
    "    ORDER BY DiversionRatePercent DESC\n",
    ")\n",
    "\n",
    "\n",
    "SELECT * FROM tmp\n",
    "ORDER BY DiversionRatePercent DESC\n",
    "'''\n",
    "diversion_by_quarter = pd.read_sql_query(sql_statement, conn)"
   ]
  },
  {
   "cell_type": "code",
   "execution_count": 32,
   "metadata": {},
   "outputs": [
    {
     "name": "stdout",
     "output_type": "stream",
     "text": [
      "  Quarter  DiversionRatePercent\n",
      "0      Q3              0.318984\n",
      "1      Q2              0.265530\n",
      "2      Q1              0.194441\n",
      "3      Q4              0.180282\n"
     ]
    }
   ],
   "source": [
    "print(diversion_by_quarter)"
   ]
  },
  {
   "cell_type": "code",
   "execution_count": 33,
   "metadata": {},
   "outputs": [],
   "source": [
    "sql_statement='''\n",
    "WITH tmp AS(SELECT\n",
    "    CASE\n",
    "\t\tWHEN 0 + strftime('%m', f.FlightDate) BETWEEN 1\n",
    "        AND 3 THEN 'Q1'\n",
    "        WHEN 0 + strftime('%m', f.FlightDate) BETWEEN 4\n",
    "        AND 6 THEN 'Q2'\n",
    "        WHEN 0 + strftime('%m', f.FlightDate) BETWEEN 7\n",
    "        AND 9 THEN 'Q3'\n",
    "        WHEN 0 + strftime('%m', f.FlightDate) BETWEEN 10\n",
    "        AND 12 THEN 'Q4'\n",
    "    end as Quarter,\n",
    "((CAST(\n",
    "SUM(\n",
    "    CASE\n",
    "        WHEN f.Diverted = 'False' THEN 0\n",
    "        ELSE 1\n",
    "    END\n",
    ") AS REAL\n",
    ") / COUNT(*)) * 100) DiversionRatePercent\n",
    "    \n",
    "    \n",
    "    FROM flights f\n",
    "    WHERE f.IATA_Code_Marketing_Airline = 'DL'\n",
    "    OR f.IATA_Code_Marketing_Airline = 'AA'\n",
    "    OR f.IATA_Code_Marketing_Airline = 'UA'\n",
    "    OR f.IATA_Code_Marketing_Airline = 'WN'\n",
    "    GROUP BY Quarter\n",
    "    ORDER BY DiversionRatePercent DESC\n",
    ")\n",
    "\n",
    "\n",
    "SELECT Quarter, DiversionRatePercent,\n",
    "    CASE\n",
    "\t\tWHEN Quarter = 'Q1' THEN 1\n",
    "\t\tWHEN Quarter = 'Q2' THEN 2\n",
    "\t\tWHEN Quarter = 'Q3' THEN 3\n",
    "\t\tWHEN Quarter = 'Q4' THEN 4\n",
    "\tEND QuarterNumber\n",
    "FROM tmp\n",
    "ORDER BY QuarterNumber\n",
    "'''\n",
    "diversion_by_quarter = pd.read_sql_query(sql_statement, conn)"
   ]
  },
  {
   "cell_type": "code",
   "execution_count": 34,
   "metadata": {},
   "outputs": [
    {
     "data": {
      "image/png": "[encoded data removed]",
      "text/plain": [
       "<Figure size 1080x288 with 1 Axes>"
      ]
     },
     "metadata": {
      "needs_background": "light"
     },
     "output_type": "display_data"
    }
   ],
   "source": [
    "plt.figure(figsize=(15, 4))\n",
    "plt.plot(diversion_by_quarter['Quarter'], diversion_by_quarter['DiversionRatePercent'], marker='o', linestyle='solid')\n",
    "plt.xlabel('Quarter')\n",
    "plt.ylabel('Diversion Rate (%)')\n",
    "plt.show()"
   ]
  },
  {
   "cell_type": "markdown",
   "metadata": {},
   "source": [
    "### By Source and Destination (Diversion)"
   ]
  },
  {
   "cell_type": "code",
   "execution_count": 35,
   "metadata": {},
   "outputs": [],
   "source": [
    "sql_statement = '''\n",
    "SELECT r.Source AS Source, r.Destination AS Destination,\n",
    "((CAST(\n",
    "SUM(\n",
    "    CASE\n",
    "        WHEN f.Diverted = 'False' THEN 0\n",
    "        ELSE 1\n",
    "    END\n",
    ") AS REAL\n",
    ") / COUNT(*)) * 100) DiversionRatePercent\n",
    "FROM Flights f\n",
    "INNER JOIN routes r ON f.routeID = r.routeID\n",
    "WHERE f.IATA_Code_Marketing_Airline = 'DL'\n",
    "OR f.IATA_Code_Marketing_Airline = 'AA'\n",
    "OR f.IATA_Code_Marketing_Airline = 'UA'\n",
    "OR f.IATA_Code_Marketing_Airline = 'WN'\n",
    "GROUP BY r.Destination\n",
    "ORDER BY DiversionRatePercent DESC, r.Destination\n",
    "'''\n",
    "diversion_by_route = pd.read_sql_query(sql_statement, conn)"
   ]
  },
  {
   "cell_type": "code",
   "execution_count": 36,
   "metadata": {},
   "outputs": [
    {
     "name": "stdout",
     "output_type": "stream",
     "text": [
      "    Source Destination  DiversionRatePercent\n",
      "0      SFO         OTH              2.979516\n",
      "1      ORD         ASE              2.914263\n",
      "2      SLC         SUN              1.954513\n",
      "3      SEA         JNU              1.840491\n",
      "4      SEA         SIT              1.840491\n",
      "..     ...         ...                   ...\n",
      "329    HNL         GUM              0.000000\n",
      "330    PHL         HVN              0.000000\n",
      "331    PHL         IPT              0.000000\n",
      "332    ATL         STX              0.000000\n",
      "333    PHL         SWF              0.000000\n",
      "\n",
      "[334 rows x 3 columns]\n"
     ]
    }
   ],
   "source": [
    "print(diversion_by_route)"
   ]
  },
  {
   "cell_type": "code",
   "execution_count": 47,
   "metadata": {},
   "outputs": [
    {
     "data": {
      "image/png": "[encoded data removed]",
      "text/plain": [
       "<Figure size 1080x216 with 1 Axes>"
      ]
     },
     "metadata": {
      "needs_background": "light"
     },
     "output_type": "display_data"
    }
   ],
   "source": [
    "plt.figure(figsize=(15, 3))\n",
    "destination = list(diversion_by_route['Destination'])[:20] #Taking top 20\n",
    "diversions = list(diversion_by_route['DiversionRatePercent'][:20])\n",
    "plt.bar(destination, diversions)\n",
    "plt.ylim(0,11.5)\n",
    "plt.xlabel('Destination Airport')\n",
    "plt.ylabel('Diverstion Rate (%)')\n",
    "for i in range(len(destination)):\n",
    "    plt.text(i,diversions[i],round(diversions[i],2), ha = 'center')\n",
    "plt.show()\n",
    "#Limit to top 20"
   ]
  },
  {
   "cell_type": "markdown",
   "metadata": {},
   "source": [
    "### By Distance (Diversion)"
   ]
  },
  {
   "cell_type": "code",
   "execution_count": 38,
   "metadata": {},
   "outputs": [],
   "source": [
    "sql_statement = '''\n",
    "SELECT f.Distance AS Distance,\n",
    "((CAST(\n",
    "SUM(\n",
    "    CASE\n",
    "        WHEN f.Diverted = 'False' THEN 0\n",
    "        ELSE 1\n",
    "    END\n",
    ") AS REAL\n",
    ") / COUNT(*)) * 100) DiversionRatePercent\n",
    "FROM Flights f\n",
    "WHERE f.IATA_Code_Marketing_Airline = 'DL'\n",
    "OR f.IATA_Code_Marketing_Airline = 'AA'\n",
    "OR f.IATA_Code_Marketing_Airline = 'UA'\n",
    "OR f.IATA_Code_Marketing_Airline = 'WN'\n",
    "GROUP BY Distance\n",
    "ORDER BY DiversionRatePercent DESC\n",
    "'''\n",
    "diversion_by_distance = pd.read_sql_query(sql_statement, conn)"
   ]
  },
  {
   "cell_type": "code",
   "execution_count": 39,
   "metadata": {},
   "outputs": [
    {
     "name": "stdout",
     "output_type": "stream",
     "text": [
      "      Distance  DiversionRatePercent\n",
      "0         92.0            100.000000\n",
      "1         82.0            100.000000\n",
      "2         71.0            100.000000\n",
      "3         68.0             61.538462\n",
      "4       1304.0              5.607477\n",
      "...        ...                   ...\n",
      "1440      94.0              0.000000\n",
      "1441      90.0              0.000000\n",
      "1442      80.0              0.000000\n",
      "1443      66.0              0.000000\n",
      "1444      45.0              0.000000\n",
      "\n",
      "[1445 rows x 2 columns]\n"
     ]
    }
   ],
   "source": [
    "print(diversion_by_distance)"
   ]
  },
  {
   "cell_type": "code",
   "execution_count": 40,
   "metadata": {},
   "outputs": [
    {
     "data": {
      "image/png": "[encoded data removed]",
      "text/plain": [
       "<Figure size 360x360 with 1 Axes>"
      ]
     },
     "metadata": {
      "needs_background": "light"
     },
     "output_type": "display_data"
    }
   ],
   "source": [
    "plt.figure(figsize=(5, 5))\n",
    "plt.scatter(diversion_by_distance['Distance'], diversion_by_distance['DiversionRatePercent'])\n",
    "plt.ylim(0,6)\n",
    "plt.xlabel('Distance')\n",
    "plt.ylabel('Diverstion Rate (%)')\n",
    "plt.show()\n",
    "#This plot does not include the four outliers with diversion rates of 100% for three of them\n",
    "# and 61.5% for one of them"
   ]
  }
 ],
 "metadata": {
  "kernelspec": {
   "display_name": "Python 3",
   "language": "python",
   "name": "python3"
  },
  "language_info": {
   "codemirror_mode": {
    "name": "ipython",
    "version": 3
   },
   "file_extension": ".py",
   "mimetype": "text/x-python",
   "name": "python",
   "nbconvert_exporter": "python",
   "pygments_lexer": "ipython3",
   "version": "3.8.2"
  }
 },
 "nbformat": 4,
 "nbformat_minor": 4
}
